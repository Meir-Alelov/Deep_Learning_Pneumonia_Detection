{
 "cells": [
  {
   "cell_type": "markdown",
   "metadata": {},
   "source": [
    "![example](images/director_shot.jpeg)"
   ]
  },
  {
   "cell_type": "markdown",
   "metadata": {},
   "source": [
    "# Project Title\n",
    "\n",
    "**Authors:** Student 1, Student 2, Student 3\n",
    "***"
   ]
  },
  {
   "cell_type": "markdown",
   "metadata": {},
   "source": [
    "## Overview\n",
    "\n",
    "A one-paragraph overview of the project, including the business problem, data, methods, results and recommendations."
   ]
  },
  {
   "cell_type": "markdown",
   "metadata": {},
   "source": [
    "## Business Problem\n",
    "\n",
    "Summary of the business problem you are trying to solve, and the data questions that you plan to answer to solve them.\n",
    "\n",
    "***\n",
    "Questions to consider:\n",
    "* What are the business's pain points related to this project?\n",
    "* How did you pick the data analysis question(s) that you did?\n",
    "* Why are these questions important from a business perspective?\n",
    "***"
   ]
  },
  {
   "cell_type": "markdown",
   "metadata": {},
   "source": [
    "## Data Understanding\n",
    "\n",
    "Describe the data being used for this project.\n",
    "***\n",
    "Questions to consider:\n",
    "* Where did the data come from, and how do they relate to the data analysis questions?\n",
    "* What do the data represent? Who is in the sample and what variables are included?\n",
    "* What is the target variable?\n",
    "* What are the properties of the variables you intend to use?\n",
    "***"
   ]
  },
  {
   "cell_type": "code",
   "execution_count": 188,
   "metadata": {},
   "outputs": [],
   "source": [
    "# Import standard packages\n",
    "import os\n",
    "import pandas as pd\n",
    "import numpy as np\n",
    "import matplotlib.pyplot as plt\n",
    "import seaborn as sns\n",
    "from matplotlib.image import imread \n",
    "from PIL import Image\n",
    "\n",
    "from tensorflow.keras.preprocessing.image import ImageDataGenerator\n",
    "from tensorflow.keras import models, layers, optimizers, losses, metrics, regularizers\n",
    "from tensorflow.keras.optimizers import SGD\n",
    "from tensorflow.keras.wrappers import scikit_learn\n",
    "from tensorflow.keras.layers import Dense, Dropout, Flatten\n",
    "\n",
    "from sklearn.metrics import plot_confusion_matrix, confusion_matrix, classification_report,\\\n",
    "recall_score, ConfusionMatrixDisplay, roc_curve, auc\n",
    "from sklearn.model_selection import cross_val_score\n",
    "from sklearn.dummy import DummyClassifier\n",
    "\n",
    "np.random.seed(42)\n",
    "%matplotlib inline"
   ]
  },
  {
   "cell_type": "code",
   "execution_count": 2,
   "metadata": {},
   "outputs": [],
   "source": [
    "train_path = '../data/chest_xray/train/' \n",
    "test_path = '../data/chest_xray/test/'"
   ]
  },
  {
   "cell_type": "code",
   "execution_count": 3,
   "metadata": {
    "scrolled": true
   },
   "outputs": [
    {
     "name": "stdout",
     "output_type": "stream",
     "text": [
      "Found 4173 images belonging to 2 classes.\n",
      "Found 1043 images belonging to 2 classes.\n",
      "Found 624 images belonging to 2 classes.\n"
     ]
    }
   ],
   "source": [
    "idg = ImageDataGenerator(rescale=1/255, validation_split = 0.20)\n",
    "\n",
    "train_set = idg.flow_from_directory(train_path, target_size=(128, 128),\n",
    "                                    color_mode='grayscale', \n",
    "                                    class_mode='binary', \n",
    "                                    subset='training')\n",
    "\n",
    "validation_set = idg.flow_from_directory(train_path, target_size=(128, 128), \n",
    "                                         color_mode='grayscale', \n",
    "                                         class_mode='binary', \n",
    "                                         subset='validation')\n",
    "\n",
    "test_set = idg.flow_from_directory(test_path, target_size=(128, 128), \n",
    "                                         color_mode='grayscale',class_mode='binary', shuffle=False)\n"
   ]
  },
  {
   "cell_type": "code",
   "execution_count": 4,
   "metadata": {
    "scrolled": true
   },
   "outputs": [
    {
     "data": {
      "text/plain": [
       "131"
      ]
     },
     "execution_count": 4,
     "metadata": {},
     "output_type": "execute_result"
    }
   ],
   "source": [
    "len(train_set)"
   ]
  },
  {
   "cell_type": "code",
   "execution_count": 151,
   "metadata": {},
   "outputs": [],
   "source": [
    "def model_metrics(model):\n",
    "    \n",
    "    results = model.history\n",
    "    \n",
    "    train_loss = results.history['loss']\n",
    "    train_acc = results.history['accuracy']\n",
    "    train_recall = results.history['Recall']\n",
    "    train_precision = results.history['Precision']\n",
    "    \n",
    "    val_loss = results.history['val_loss']\n",
    "    val_acc = results.history['val_accuracy']\n",
    "    val_recall = results.history['val_Recall']\n",
    "    val_precision = results.history['val_Precision']\n",
    "    \n",
    "    print(f\" AUC score of final epoch is {results.history['AUC'][-1]:.3f}\")\n",
    "    \n",
    "    fig, (ax1, ax2, ax3, ax4) = plt.subplots(1, 4, figsize=(20, 6))\n",
    "    sns.lineplot(x=results.epoch, y=train_loss, ax=ax1, label='train_loss')\n",
    "    sns.lineplot(x=results.epoch, y=train_acc, ax=ax2, label='train_accuracy')\n",
    "    sns.lineplot(x=results.epoch, y=train_recall, ax=ax3, label='train_recall')\n",
    "    sns.lineplot(x=results.epoch, y=train_precision, ax=ax4, label='train_precision')\n",
    "\n",
    "    sns.lineplot(x=results.epoch, y=val_loss, ax=ax1, label='val_loss')\n",
    "    sns.lineplot(x=results.epoch, y=val_acc, ax=ax2, label='val_accuracy')\n",
    "    sns.lineplot(x=results.epoch, y=val_recall, ax=ax3, label='val_recall')\n",
    "    sns.lineplot(x=results.epoch, y=val_precision, ax=ax4, label='val_precision')\n",
    "\n",
    "    ax1.set_title('Loss')\n",
    "    ax2.set_title('Accuracy')\n",
    "    ax3.set_title('Recall')\n",
    "    ax4.set_title('Precision')\n",
    "    \n",
    "    ax1.set_xlabel('Epochs')\n",
    "    ax2.set_xlabel('Epochs')\n",
    "    ax3.set_xlabel('Epochs')\n",
    "    ax4.set_xlabel('Epochs')\n",
    "    \n",
    "    ax1.set_ylabel('Loss')\n",
    "    ax2.set_ylabel('Accuracy')\n",
    "    ax3.set_ylabel('Recall')\n",
    "    ax4.set_ylabel('Precision')\n",
    "    \n",
    "    ax1.legend()\n",
    "    ax2.legend()\n",
    "    ax3.legend()\n",
    "    ax4.legend();"
   ]
  },
  {
   "cell_type": "code",
   "execution_count": 191,
   "metadata": {},
   "outputs": [
    {
     "ename": "NameError",
     "evalue": "name 'base_acc' is not defined",
     "output_type": "error",
     "traceback": [
      "\u001b[0;31m---------------------------------------------------------------------------\u001b[0m",
      "\u001b[0;31mNameError\u001b[0m                                 Traceback (most recent call last)",
      "\u001b[0;32m/var/folders/n6/36h6cpys3pb112776ltdljwc0000gn/T/ipykernel_17977/1773418216.py\u001b[0m in \u001b[0;36m<module>\u001b[0;34m\u001b[0m\n\u001b[1;32m      1\u001b[0m \u001b[0mfig\u001b[0m\u001b[0;34m,\u001b[0m \u001b[0max\u001b[0m \u001b[0;34m=\u001b[0m \u001b[0mplt\u001b[0m\u001b[0;34m.\u001b[0m\u001b[0msubplots\u001b[0m\u001b[0;34m(\u001b[0m\u001b[0;34m)\u001b[0m\u001b[0;34m\u001b[0m\u001b[0;34m\u001b[0m\u001b[0m\n\u001b[1;32m      2\u001b[0m \u001b[0;34m\u001b[0m\u001b[0m\n\u001b[0;32m----> 3\u001b[0;31m \u001b[0msns\u001b[0m\u001b[0;34m.\u001b[0m\u001b[0mbarplot\u001b[0m\u001b[0;34m(\u001b[0m\u001b[0mbase_acc\u001b[0m\u001b[0;34m,\u001b[0m \u001b[0mdeep_cnn_acc\u001b[0m\u001b[0;34m)\u001b[0m\u001b[0;34m\u001b[0m\u001b[0;34m\u001b[0m\u001b[0m\n\u001b[0m\u001b[1;32m      4\u001b[0m \u001b[0msns\u001b[0m\u001b[0;34m.\u001b[0m\u001b[0mbarplot\u001b[0m\u001b[0;34m(\u001b[0m\u001b[0mbase_recall\u001b[0m\u001b[0;34m,\u001b[0m \u001b[0mdeep_cnn_recall\u001b[0m\u001b[0;34m)\u001b[0m\u001b[0;34m\u001b[0m\u001b[0;34m\u001b[0m\u001b[0m\n\u001b[1;32m      5\u001b[0m \u001b[0msns\u001b[0m\u001b[0;34m.\u001b[0m\u001b[0mbarplot\u001b[0m\u001b[0;34m(\u001b[0m\u001b[0mbase_precision\u001b[0m\u001b[0;34m,\u001b[0m \u001b[0mdeep_cnn_precision\u001b[0m\u001b[0;34m)\u001b[0m\u001b[0;34m\u001b[0m\u001b[0;34m\u001b[0m\u001b[0m\n",
      "\u001b[0;31mNameError\u001b[0m: name 'base_acc' is not defined"
     ]
    },
    {
     "data": {
      "image/png": "[encoded data removed]",
      "text/plain": [
       "<Figure size 432x288 with 1 Axes>"
      ]
     },
     "metadata": {
      "needs_background": "light"
     },
     "output_type": "display_data"
    }
   ],
   "source": [
    "fig, ax = plt.subplots()\n",
    "\n",
    "sns.barplot(base_acc, deep_cnn_acc)\n",
    "sns.barplot(base_recall, deep_cnn_recall)\n",
    "sns.barplot(base_precision, deep_cnn_precision)\n",
    "\n",
    "ax1.set_title('Score Comparison')\n",
    "ax1.set_xticklabels(['Baseline', 'Final Model'])\n",
    "ax1.set_ylabel('Scores')\n",
    "ax1.legend(['Accuracy', 'Recall', 'Precision'])\n",
    "plt.savefig('Images/Comparison.png');"
   ]
  },
  {
   "cell_type": "code",
   "execution_count": 189,
   "metadata": {},
   "outputs": [],
   "source": [
    "def conf_and_rocauc(model):\n",
    "    \n",
    "    #confusion matrix\n",
    "    \n",
    "    y_pred = model.predict(test_set)\n",
    "    y_hat = (y_pred > 0.5)           \n",
    "    display(ConfusionMatrixDisplay(confusion_matrix(test_set.classes, y_hat), display_labels=['Normal', 'Pneumonia']).plot());\n",
    "    \n",
    "    \n",
    "    #ROC_AUC\n",
    "    \n",
    "    fpr_keras, tpr_keras, thresholds_keras = roc_curve(test_set.classes, y_pred)\n",
    "    auc_keras = auc(fpr_keras, tpr_keras)\n",
    "    \n",
    "    plt.figure()\n",
    "    plt.plot(fpr_keras, tpr_keras, label='Keras (area = {:.3f})'.format(auc_keras))\n",
    "    plt.xlabel('False positive rate')\n",
    "    plt.ylabel('True positive rate')\n",
    "    plt.title('ROC curve')\n",
    "    plt.legend(loc='best')\n",
    "    plt.show();\n",
    "    "
   ]
  },
  {
   "cell_type": "markdown",
   "metadata": {},
   "source": [
    "## FSM"
   ]
  },
  {
   "cell_type": "code",
   "execution_count": 7,
   "metadata": {},
   "outputs": [
    {
     "name": "stderr",
     "output_type": "stream",
     "text": [
      "2022-05-10 16:38:12.467596: I tensorflow/core/platform/cpu_feature_guard.cc:145] This TensorFlow binary is optimized with Intel(R) MKL-DNN to use the following CPU instructions in performance critical operations:  SSE4.1 SSE4.2\n",
      "To enable them in non-MKL-DNN operations, rebuild TensorFlow with the appropriate compiler flags.\n",
      "2022-05-10 16:38:12.468347: I tensorflow/core/common_runtime/process_util.cc:115] Creating new thread pool with default inter op setting: 10. Tune using inter_op_parallelism_threads for best performance.\n"
     ]
    }
   ],
   "source": [
    "first_simple_model = models.Sequential([\n",
    "    layers.Flatten(input_shape=(128, 128, 1)),\n",
    "    layers.Dense(32, activation='sigmoid'),\n",
    "    layers.Dense(1, activation='sigmoid')\n",
    "])\n",
    "\n",
    "first_simple_model.compile(optimizer='SGD',\n",
    "                           loss='binary_crossentropy',\n",
    "                           metrics=['accuracy', 'Recall', 'Precision', 'TruePositives', \n",
    "                                    'TrueNegatives', 'FalsePositives', 'FalseNegatives', 'AUC'])"
   ]
  },
  {
   "cell_type": "code",
   "execution_count": 8,
   "metadata": {
    "scrolled": true
   },
   "outputs": [
    {
     "name": "stderr",
     "output_type": "stream",
     "text": [
      "2022-05-10 16:38:26.545032: I tensorflow/core/kernels/data/shuffle_dataset_op.cc:143] Filling up shuffle buffer (this may take a while): 63 of 131\n",
      "2022-05-10 16:38:36.478424: I tensorflow/core/kernels/data/shuffle_dataset_op.cc:143] Filling up shuffle buffer (this may take a while): 123 of 131\n",
      "2022-05-10 16:38:37.619760: I tensorflow/core/kernels/data/shuffle_dataset_op.cc:193] Shuffle buffer filled.\n"
     ]
    },
    {
     "name": "stdout",
     "output_type": "stream",
     "text": [
      "Train for 131 steps, validate for 33 steps\n",
      "Epoch 1/20\n"
     ]
    },
    {
     "name": "stderr",
     "output_type": "stream",
     "text": [
      "2022-05-10 16:38:49.156348: I tensorflow/core/kernels/data/shuffle_dataset_op.cc:143] Filling up shuffle buffer (this may take a while): 63 of 131\n",
      "2022-05-10 16:38:59.154024: I tensorflow/core/kernels/data/shuffle_dataset_op.cc:143] Filling up shuffle buffer (this may take a while): 125 of 131\n",
      "2022-05-10 16:38:59.971685: I tensorflow/core/kernels/data/shuffle_dataset_op.cc:193] Shuffle buffer filled.\n"
     ]
    },
    {
     "name": "stdout",
     "output_type": "stream",
     "text": [
      "Epoch 2/20\n"
     ]
    },
    {
     "name": "stderr",
     "output_type": "stream",
     "text": [
      "2022-05-10 16:39:17.301785: I tensorflow/core/kernels/data/shuffle_dataset_op.cc:143] Filling up shuffle buffer (this may take a while): 63 of 131\n",
      "2022-05-10 16:39:27.370337: I tensorflow/core/kernels/data/shuffle_dataset_op.cc:143] Filling up shuffle buffer (this may take a while): 126 of 131\n",
      "2022-05-10 16:39:28.064746: I tensorflow/core/kernels/data/shuffle_dataset_op.cc:193] Shuffle buffer filled.\n"
     ]
    },
    {
     "name": "stdout",
     "output_type": "stream",
     "text": [
      "Epoch 3/20\n"
     ]
    },
    {
     "name": "stderr",
     "output_type": "stream",
     "text": [
      "2022-05-10 16:39:44.631887: I tensorflow/core/kernels/data/shuffle_dataset_op.cc:143] Filling up shuffle buffer (this may take a while): 64 of 131\n",
      "2022-05-10 16:39:54.508558: I tensorflow/core/kernels/data/shuffle_dataset_op.cc:143] Filling up shuffle buffer (this may take a while): 126 of 131\n",
      "2022-05-10 16:39:55.199837: I tensorflow/core/kernels/data/shuffle_dataset_op.cc:193] Shuffle buffer filled.\n"
     ]
    },
    {
     "name": "stdout",
     "output_type": "stream",
     "text": [
      "Epoch 4/20\n"
     ]
    },
    {
     "name": "stderr",
     "output_type": "stream",
     "text": [
      "2022-05-10 16:40:11.873658: I tensorflow/core/kernels/data/shuffle_dataset_op.cc:143] Filling up shuffle buffer (this may take a while): 63 of 131\n",
      "2022-05-10 16:40:21.846204: I tensorflow/core/kernels/data/shuffle_dataset_op.cc:143] Filling up shuffle buffer (this may take a while): 125 of 131\n",
      "2022-05-10 16:40:22.667532: I tensorflow/core/kernels/data/shuffle_dataset_op.cc:193] Shuffle buffer filled.\n"
     ]
    },
    {
     "name": "stdout",
     "output_type": "stream",
     "text": [
      "Epoch 5/20\n"
     ]
    },
    {
     "name": "stderr",
     "output_type": "stream",
     "text": [
      "2022-05-10 16:40:39.226787: I tensorflow/core/kernels/data/shuffle_dataset_op.cc:143] Filling up shuffle buffer (this may take a while): 63 of 131\n",
      "2022-05-10 16:40:49.176184: I tensorflow/core/kernels/data/shuffle_dataset_op.cc:143] Filling up shuffle buffer (this may take a while): 125 of 131\n",
      "2022-05-10 16:40:49.998263: I tensorflow/core/kernels/data/shuffle_dataset_op.cc:193] Shuffle buffer filled.\n"
     ]
    },
    {
     "name": "stdout",
     "output_type": "stream",
     "text": [
      "Epoch 6/20\n"
     ]
    },
    {
     "name": "stderr",
     "output_type": "stream",
     "text": [
      "2022-05-10 16:41:06.605821: I tensorflow/core/kernels/data/shuffle_dataset_op.cc:143] Filling up shuffle buffer (this may take a while): 63 of 131\n",
      "2022-05-10 16:41:16.653062: I tensorflow/core/kernels/data/shuffle_dataset_op.cc:143] Filling up shuffle buffer (this may take a while): 126 of 131\n",
      "2022-05-10 16:41:17.349062: I tensorflow/core/kernels/data/shuffle_dataset_op.cc:193] Shuffle buffer filled.\n"
     ]
    },
    {
     "name": "stdout",
     "output_type": "stream",
     "text": [
      "Epoch 7/20\n"
     ]
    },
    {
     "name": "stderr",
     "output_type": "stream",
     "text": [
      "2022-05-10 16:41:33.907590: I tensorflow/core/kernels/data/shuffle_dataset_op.cc:143] Filling up shuffle buffer (this may take a while): 63 of 131\n",
      "2022-05-10 16:41:43.857432: I tensorflow/core/kernels/data/shuffle_dataset_op.cc:143] Filling up shuffle buffer (this may take a while): 125 of 131\n",
      "2022-05-10 16:41:44.679361: I tensorflow/core/kernels/data/shuffle_dataset_op.cc:193] Shuffle buffer filled.\n"
     ]
    },
    {
     "name": "stdout",
     "output_type": "stream",
     "text": [
      "Epoch 8/20\n"
     ]
    },
    {
     "name": "stderr",
     "output_type": "stream",
     "text": [
      "2022-05-10 16:42:01.234734: I tensorflow/core/kernels/data/shuffle_dataset_op.cc:143] Filling up shuffle buffer (this may take a while): 63 of 131\n",
      "2022-05-10 16:42:11.169452: I tensorflow/core/kernels/data/shuffle_dataset_op.cc:143] Filling up shuffle buffer (this may take a while): 125 of 131\n",
      "2022-05-10 16:42:11.985808: I tensorflow/core/kernels/data/shuffle_dataset_op.cc:193] Shuffle buffer filled.\n"
     ]
    },
    {
     "name": "stdout",
     "output_type": "stream",
     "text": [
      "Epoch 9/20\n"
     ]
    },
    {
     "name": "stderr",
     "output_type": "stream",
     "text": [
      "2022-05-10 16:42:28.486072: I tensorflow/core/kernels/data/shuffle_dataset_op.cc:143] Filling up shuffle buffer (this may take a while): 63 of 131\n",
      "2022-05-10 16:42:38.509821: I tensorflow/core/kernels/data/shuffle_dataset_op.cc:143] Filling up shuffle buffer (this may take a while): 126 of 131\n",
      "2022-05-10 16:42:39.201053: I tensorflow/core/kernels/data/shuffle_dataset_op.cc:193] Shuffle buffer filled.\n"
     ]
    },
    {
     "name": "stdout",
     "output_type": "stream",
     "text": [
      "Epoch 10/20\n"
     ]
    },
    {
     "name": "stderr",
     "output_type": "stream",
     "text": [
      "2022-05-10 16:42:55.713549: I tensorflow/core/kernels/data/shuffle_dataset_op.cc:143] Filling up shuffle buffer (this may take a while): 63 of 131\n",
      "2022-05-10 16:43:05.679175: I tensorflow/core/kernels/data/shuffle_dataset_op.cc:143] Filling up shuffle buffer (this may take a while): 125 of 131\n",
      "2022-05-10 16:43:06.496251: I tensorflow/core/kernels/data/shuffle_dataset_op.cc:193] Shuffle buffer filled.\n"
     ]
    },
    {
     "name": "stdout",
     "output_type": "stream",
     "text": [
      "Epoch 11/20\n"
     ]
    },
    {
     "name": "stderr",
     "output_type": "stream",
     "text": [
      "2022-05-10 16:43:23.002935: I tensorflow/core/kernels/data/shuffle_dataset_op.cc:143] Filling up shuffle buffer (this may take a while): 63 of 131\n",
      "2022-05-10 16:43:32.969904: I tensorflow/core/kernels/data/shuffle_dataset_op.cc:143] Filling up shuffle buffer (this may take a while): 124 of 131\n",
      "2022-05-10 16:43:33.946242: I tensorflow/core/kernels/data/shuffle_dataset_op.cc:193] Shuffle buffer filled.\n"
     ]
    },
    {
     "name": "stdout",
     "output_type": "stream",
     "text": [
      "Epoch 12/20\n"
     ]
    },
    {
     "name": "stderr",
     "output_type": "stream",
     "text": [
      "2022-05-10 16:43:50.523570: I tensorflow/core/kernels/data/shuffle_dataset_op.cc:143] Filling up shuffle buffer (this may take a while): 63 of 131\n",
      "2022-05-10 16:44:00.474525: I tensorflow/core/kernels/data/shuffle_dataset_op.cc:143] Filling up shuffle buffer (this may take a while): 125 of 131\n",
      "2022-05-10 16:44:01.291839: I tensorflow/core/kernels/data/shuffle_dataset_op.cc:193] Shuffle buffer filled.\n"
     ]
    },
    {
     "name": "stdout",
     "output_type": "stream",
     "text": [
      "Epoch 13/20\n"
     ]
    },
    {
     "name": "stderr",
     "output_type": "stream",
     "text": [
      "2022-05-10 16:44:18.139666: I tensorflow/core/kernels/data/shuffle_dataset_op.cc:143] Filling up shuffle buffer (this may take a while): 63 of 131\n",
      "2022-05-10 16:44:28.066176: I tensorflow/core/kernels/data/shuffle_dataset_op.cc:143] Filling up shuffle buffer (this may take a while): 125 of 131\n",
      "2022-05-10 16:44:28.883445: I tensorflow/core/kernels/data/shuffle_dataset_op.cc:193] Shuffle buffer filled.\n"
     ]
    },
    {
     "name": "stdout",
     "output_type": "stream",
     "text": [
      "Epoch 14/20\n"
     ]
    },
    {
     "name": "stderr",
     "output_type": "stream",
     "text": [
      "2022-05-10 16:44:45.453709: I tensorflow/core/kernels/data/shuffle_dataset_op.cc:143] Filling up shuffle buffer (this may take a while): 63 of 131\n",
      "2022-05-10 16:44:55.451587: I tensorflow/core/kernels/data/shuffle_dataset_op.cc:143] Filling up shuffle buffer (this may take a while): 126 of 131\n",
      "2022-05-10 16:44:56.142084: I tensorflow/core/kernels/data/shuffle_dataset_op.cc:193] Shuffle buffer filled.\n"
     ]
    },
    {
     "name": "stdout",
     "output_type": "stream",
     "text": [
      "Epoch 15/20\n"
     ]
    },
    {
     "name": "stderr",
     "output_type": "stream",
     "text": [
      "2022-05-10 16:45:12.643484: I tensorflow/core/kernels/data/shuffle_dataset_op.cc:143] Filling up shuffle buffer (this may take a while): 63 of 131\n",
      "2022-05-10 16:45:22.662412: I tensorflow/core/kernels/data/shuffle_dataset_op.cc:143] Filling up shuffle buffer (this may take a while): 126 of 131\n",
      "2022-05-10 16:45:23.359670: I tensorflow/core/kernels/data/shuffle_dataset_op.cc:193] Shuffle buffer filled.\n"
     ]
    },
    {
     "name": "stdout",
     "output_type": "stream",
     "text": [
      "Epoch 16/20\n"
     ]
    },
    {
     "name": "stderr",
     "output_type": "stream",
     "text": [
      "2022-05-10 16:45:39.992511: I tensorflow/core/kernels/data/shuffle_dataset_op.cc:143] Filling up shuffle buffer (this may take a while): 63 of 131\n",
      "2022-05-10 16:45:49.993549: I tensorflow/core/kernels/data/shuffle_dataset_op.cc:143] Filling up shuffle buffer (this may take a while): 126 of 131\n",
      "2022-05-10 16:45:50.684807: I tensorflow/core/kernels/data/shuffle_dataset_op.cc:193] Shuffle buffer filled.\n"
     ]
    },
    {
     "name": "stdout",
     "output_type": "stream",
     "text": [
      "Epoch 17/20\n"
     ]
    },
    {
     "name": "stderr",
     "output_type": "stream",
     "text": [
      "2022-05-10 16:46:07.249186: I tensorflow/core/kernels/data/shuffle_dataset_op.cc:143] Filling up shuffle buffer (this may take a while): 64 of 131\n",
      "2022-05-10 16:46:17.248562: I tensorflow/core/kernels/data/shuffle_dataset_op.cc:143] Filling up shuffle buffer (this may take a while): 126 of 131\n",
      "2022-05-10 16:46:17.944426: I tensorflow/core/kernels/data/shuffle_dataset_op.cc:193] Shuffle buffer filled.\n"
     ]
    },
    {
     "name": "stdout",
     "output_type": "stream",
     "text": [
      "Epoch 18/20\n"
     ]
    },
    {
     "name": "stderr",
     "output_type": "stream",
     "text": [
      "2022-05-10 16:46:34.685741: I tensorflow/core/kernels/data/shuffle_dataset_op.cc:143] Filling up shuffle buffer (this may take a while): 63 of 131\n",
      "2022-05-10 16:46:44.621168: I tensorflow/core/kernels/data/shuffle_dataset_op.cc:143] Filling up shuffle buffer (this may take a while): 123 of 131\n",
      "2022-05-10 16:46:45.724021: I tensorflow/core/kernels/data/shuffle_dataset_op.cc:193] Shuffle buffer filled.\n"
     ]
    },
    {
     "name": "stdout",
     "output_type": "stream",
     "text": [
      "Epoch 19/20\n"
     ]
    },
    {
     "name": "stderr",
     "output_type": "stream",
     "text": [
      "2022-05-10 16:47:02.248727: I tensorflow/core/kernels/data/shuffle_dataset_op.cc:143] Filling up shuffle buffer (this may take a while): 63 of 131\n",
      "2022-05-10 16:47:12.262681: I tensorflow/core/kernels/data/shuffle_dataset_op.cc:143] Filling up shuffle buffer (this may take a while): 124 of 131\n",
      "2022-05-10 16:47:13.242083: I tensorflow/core/kernels/data/shuffle_dataset_op.cc:193] Shuffle buffer filled.\n"
     ]
    },
    {
     "name": "stdout",
     "output_type": "stream",
     "text": [
      "Epoch 20/20\n"
     ]
    },
    {
     "name": "stderr",
     "output_type": "stream",
     "text": [
      "2022-05-10 16:47:29.695635: I tensorflow/core/kernels/data/shuffle_dataset_op.cc:143] Filling up shuffle buffer (this may take a while): 63 of 131\n",
      "2022-05-10 16:47:39.726756: I tensorflow/core/kernels/data/shuffle_dataset_op.cc:143] Filling up shuffle buffer (this may take a while): 126 of 131\n",
      "2022-05-10 16:47:40.417731: I tensorflow/core/kernels/data/shuffle_dataset_op.cc:193] Shuffle buffer filled.\n"
     ]
    }
   ],
   "source": [
    "first_simple_model_results = first_simple_model.fit(train_set, \n",
    "                           epochs=20,\n",
    "                           batch_size=None, \n",
    "                           verbose=3, \n",
    "                           validation_data=validation_set)"
   ]
  },
  {
   "cell_type": "code",
   "execution_count": 9,
   "metadata": {},
   "outputs": [],
   "source": [
    "first_simple_model.save('../data/simple_model.h5')"
   ]
  },
  {
   "cell_type": "code",
   "execution_count": 10,
   "metadata": {},
   "outputs": [],
   "source": [
    "#simple_model = models.load_model('../data/fsm.h5')"
   ]
  },
  {
   "cell_type": "code",
   "execution_count": 12,
   "metadata": {},
   "outputs": [
    {
     "name": "stdout",
     "output_type": "stream",
     "text": [
      "Model: \"sequential\"\n",
      "_________________________________________________________________\n",
      "Layer (type)                 Output Shape              Param #   \n",
      "=================================================================\n",
      "flatten (Flatten)            (None, 16384)             0         \n",
      "_________________________________________________________________\n",
      "dense (Dense)                (None, 32)                524320    \n",
      "_________________________________________________________________\n",
      "dense_1 (Dense)              (None, 1)                 33        \n",
      "=================================================================\n",
      "Total params: 524,353\n",
      "Trainable params: 524,353\n",
      "Non-trainable params: 0\n",
      "_________________________________________________________________\n"
     ]
    }
   ],
   "source": [
    "first_simple_model.summary()"
   ]
  },
  {
   "cell_type": "code",
   "execution_count": 152,
   "metadata": {},
   "outputs": [
    {
     "name": "stdout",
     "output_type": "stream",
     "text": [
      " AUC score of final epoch is 0.989\n"
     ]
    },
    {
     "data": {
      "image/png": "[encoded data removed]",
      "text/plain": [
       "<Figure size 1440x432 with 4 Axes>"
      ]
     },
     "metadata": {
      "needs_background": "light"
     },
     "output_type": "display_data"
    }
   ],
   "source": [
    "model_metrics(first_simple_model)"
   ]
  },
  {
   "cell_type": "code",
   "execution_count": 190,
   "metadata": {},
   "outputs": [
    {
     "data": {
      "text/plain": [
       "<sklearn.metrics._plot.confusion_matrix.ConfusionMatrixDisplay at 0x7f922c2119d0>"
      ]
     },
     "metadata": {},
     "output_type": "display_data"
    },
    {
     "data": {
      "image/png": "[encoded data removed]",
      "text/plain": [
       "<Figure size 432x288 with 2 Axes>"
      ]
     },
     "metadata": {
      "needs_background": "light"
     },
     "output_type": "display_data"
    },
    {
     "data": {
      "image/png": "[encoded data removed]",
      "text/plain": [
       "<Figure size 432x288 with 1 Axes>"
      ]
     },
     "metadata": {
      "needs_background": "light"
     },
     "output_type": "display_data"
    }
   ],
   "source": [
    "conf_and_rocauc(first_simple_model)"
   ]
  },
  {
   "cell_type": "markdown",
   "metadata": {},
   "source": [
    "## FSM CV"
   ]
  },
  {
   "cell_type": "code",
   "execution_count": 197,
   "metadata": {},
   "outputs": [
    {
     "name": "stdout",
     "output_type": "stream",
     "text": [
      "Found 4173 images belonging to 2 classes.\n",
      "Found 1043 images belonging to 2 classes.\n"
     ]
    }
   ],
   "source": [
    "idg_cv = ImageDataGenerator(rescale=1/255, validation_split = 0.20)\n",
    "\n",
    "train_set_cv = idg_cv.flow_from_directory(train_path, target_size=(128, 128),\n",
    "                                    color_mode='grayscale', \n",
    "                                    class_mode='binary',\n",
    "                                    batch_size=4173,\n",
    "                                    subset='training')\n",
    "\n",
    "validation_set_cv = idg_cv.flow_from_directory(train_path, target_size=(128, 128), \n",
    "                                         color_mode='grayscale', \n",
    "                                         class_mode='binary',\n",
    "                                            batch_size=1043,\n",
    "                                         subset='validation')"
   ]
  },
  {
   "cell_type": "code",
   "execution_count": 198,
   "metadata": {},
   "outputs": [
    {
     "data": {
      "text/plain": [
       "131"
      ]
     },
     "execution_count": 198,
     "metadata": {},
     "output_type": "execute_result"
    }
   ],
   "source": [
    "len(train_set_cv)"
   ]
  },
  {
   "cell_type": "code",
   "execution_count": 37,
   "metadata": {},
   "outputs": [],
   "source": [
    "fsm_cv = models.Sequential([\n",
    "    layers.Flatten(input_shape=(128, 128, 1)),\n",
    "    layers.Dense(32, activation='sigmoid'),\n",
    "    layers.Dense(1, activation='sigmoid')\n",
    "])\n",
    "\n",
    "fsm_cv.compile(optimizer='SGD',\n",
    "                           loss='binary_crossentropy',\n",
    "                           metrics=['accuracy', 'Recall', 'Precision', 'TruePositives', \n",
    "                                    'TrueNegatives', 'FalsePositives', 'FalseNegatives', 'AUC'])"
   ]
  },
  {
   "cell_type": "code",
   "execution_count": 38,
   "metadata": {
    "scrolled": false
   },
   "outputs": [
    {
     "name": "stdout",
     "output_type": "stream",
     "text": [
      "Train for 1 steps, validate for 1 steps\n",
      "Epoch 1/20\n",
      "Epoch 2/20\n",
      "Epoch 3/20\n",
      "Epoch 4/20\n",
      "Epoch 5/20\n",
      "Epoch 6/20\n",
      "Epoch 7/20\n",
      "Epoch 8/20\n",
      "Epoch 9/20\n",
      "Epoch 10/20\n",
      "Epoch 11/20\n",
      "Epoch 12/20\n",
      "Epoch 13/20\n",
      "Epoch 14/20\n",
      "Epoch 15/20\n",
      "Epoch 16/20\n",
      "Epoch 17/20\n",
      "Epoch 18/20\n",
      "Epoch 19/20\n",
      "Epoch 20/20\n"
     ]
    }
   ],
   "source": [
    "fsm_cv_results = fsm_cv.fit(train_set_cv, \n",
    "                           epochs=20, \n",
    "                           verbose=3, \n",
    "                           validation_data=validation_set_cv)"
   ]
  },
  {
   "cell_type": "code",
   "execution_count": 206,
   "metadata": {},
   "outputs": [
    {
     "ename": "NameError",
     "evalue": "name 'fsm_cv_results' is not defined",
     "output_type": "error",
     "traceback": [
      "\u001b[0;31m---------------------------------------------------------------------------\u001b[0m",
      "\u001b[0;31mNameError\u001b[0m                                 Traceback (most recent call last)",
      "\u001b[0;32m/var/folders/n6/36h6cpys3pb112776ltdljwc0000gn/T/ipykernel_17977/1124239032.py\u001b[0m in \u001b[0;36m<module>\u001b[0;34m\u001b[0m\n\u001b[0;32m----> 1\u001b[0;31m \u001b[0mfsm_cv_results\u001b[0m\u001b[0;34m.\u001b[0m\u001b[0mhistory\u001b[0m\u001b[0;34m[\u001b[0m\u001b[0;34m'val_accuracy'\u001b[0m\u001b[0;34m]\u001b[0m\u001b[0;34m[\u001b[0m\u001b[0;34m-\u001b[0m\u001b[0;36m1\u001b[0m\u001b[0;34m]\u001b[0m\u001b[0;34m\u001b[0m\u001b[0;34m\u001b[0m\u001b[0m\n\u001b[0m",
      "\u001b[0;31mNameError\u001b[0m: name 'fsm_cv_results' is not defined"
     ]
    }
   ],
   "source": [
    "fsm_cv_results.history['val_accuracy'][-1]"
   ]
  },
  {
   "cell_type": "code",
   "execution_count": 113,
   "metadata": {},
   "outputs": [
    {
     "name": "stdout",
     "output_type": "stream",
     "text": [
      " AUC score of final epoch is 0.763\n"
     ]
    },
    {
     "data": {
      "image/png": "[encoded data removed]",
      "text/plain": [
       "<Figure size 720x360 with 2 Axes>"
      ]
     },
     "metadata": {
      "needs_background": "light"
     },
     "output_type": "display_data"
    }
   ],
   "source": [
    "model_metrics(first_simple_model_cv)"
   ]
  },
  {
   "cell_type": "code",
   "execution_count": 47,
   "metadata": {},
   "outputs": [
    {
     "name": "stdout",
     "output_type": "stream",
     "text": [
      "20/20 [==============================] - 3s 134ms/step - loss: 0.6637 - accuracy: 0.6250 - Recall: 1.0000 - Precision: 0.6250 - TruePositives: 390.0000 - TrueNegatives: 0.0000e+00 - FalsePositives: 234.0000 - FalseNegatives: 0.0000e+00 - AUC: 0.6735\n"
     ]
    },
    {
     "data": {
      "text/plain": [
       "[0.6637035652995109, 0.625, 1.0, 0.625, 390.0, 0.0, 234.0, 0.0, 0.67353714]"
      ]
     },
     "execution_count": 47,
     "metadata": {},
     "output_type": "execute_result"
    }
   ],
   "source": [
    "fsm_cv.evaluate(test_set)"
   ]
  },
  {
   "cell_type": "code",
   "execution_count": 39,
   "metadata": {},
   "outputs": [],
   "source": [
    "fsm_cv.save('../data/fsm_cv.h5')"
   ]
  },
  {
   "cell_type": "code",
   "execution_count": 203,
   "metadata": {},
   "outputs": [
    {
     "name": "stdout",
     "output_type": "stream",
     "text": [
      "Found 5216 images belonging to 2 classes.\n"
     ]
    }
   ],
   "source": [
    "idg_cv_comp = ImageDataGenerator(rescale=1/255)\n",
    "\n",
    "train_set_cv_comp = idg_cv_comp.flow_from_directory(train_path, target_size=(128, 128),\n",
    "                                    color_mode='grayscale', \n",
    "                                    class_mode='binary',\n",
    "                                    batch_size=5216,\n",
    "                                    subset='training')"
   ]
  },
  {
   "cell_type": "code",
   "execution_count": 41,
   "metadata": {},
   "outputs": [],
   "source": [
    "def build_model():\n",
    "    model = models.Sequential([\n",
    "        layers.Flatten(input_shape=(128, 128, 1)),\n",
    "        layers.Dense(32, activation='sigmoid'),\n",
    "        layers.Dense(1, activation='sigmoid')\n",
    "])\n",
    "\n",
    "    model.compile(optimizer='SGD',\n",
    "                    loss='binary_crossentropy',\n",
    "                    metrics=['accuracy', 'Recall', 'Precision', 'TruePositives', \n",
    "                            'TrueNegatives', 'FalsePositives', 'FalseNegatives', 'AUC'])\n",
    "    return model"
   ]
  },
  {
   "cell_type": "code",
   "execution_count": 42,
   "metadata": {
    "scrolled": true
   },
   "outputs": [],
   "source": [
    "keras_model = scikit_learn.KerasClassifier(build_model,\n",
    "                                          epochs=20)"
   ]
  },
  {
   "cell_type": "code",
   "execution_count": 204,
   "metadata": {},
   "outputs": [
    {
     "name": "stdout",
     "output_type": "stream",
     "text": [
      "5216 5216\n"
     ]
    }
   ],
   "source": [
    "train_images, train_labels = next(train_set_cv_comp)\n",
    "\n",
    "print(len(train_images), len(train_labels))"
   ]
  },
  {
   "cell_type": "code",
   "execution_count": 207,
   "metadata": {},
   "outputs": [
    {
     "data": {
      "text/plain": [
       "numpy.ndarray"
      ]
     },
     "execution_count": 207,
     "metadata": {},
     "output_type": "execute_result"
    }
   ],
   "source": [
    "type(train_images)"
   ]
  },
  {
   "cell_type": "code",
   "execution_count": 43,
   "metadata": {},
   "outputs": [
    {
     "name": "stderr",
     "output_type": "stream",
     "text": [
      "[Parallel(n_jobs=1)]: Using backend SequentialBackend with 1 concurrent workers.\n"
     ]
    },
    {
     "name": "stdout",
     "output_type": "stream",
     "text": [
      "Train on 3338 samples\n",
      "Epoch 1/20\n",
      "Epoch 2/20\n",
      "Epoch 3/20\n",
      "Epoch 4/20\n",
      "Epoch 5/20\n",
      "Epoch 6/20\n",
      "Epoch 7/20\n",
      "Epoch 8/20\n",
      "Epoch 9/20\n",
      "Epoch 10/20\n",
      "Epoch 11/20\n",
      "Epoch 12/20\n",
      "Epoch 13/20\n",
      "Epoch 14/20\n",
      "Epoch 15/20\n",
      "Epoch 16/20\n",
      "Epoch 17/20\n",
      "Epoch 18/20\n",
      "Epoch 19/20\n",
      "Epoch 20/20\n",
      "[CV] END ................................ score: (test=0.952) total time=  21.8s\n"
     ]
    },
    {
     "name": "stderr",
     "output_type": "stream",
     "text": [
      "[Parallel(n_jobs=1)]: Done   1 out of   1 | elapsed:   21.8s remaining:    0.0s\n"
     ]
    },
    {
     "name": "stdout",
     "output_type": "stream",
     "text": [
      "Train on 3338 samples\n",
      "Epoch 1/20\n",
      "Epoch 2/20\n",
      "Epoch 3/20\n",
      "Epoch 4/20\n",
      "Epoch 5/20\n",
      "Epoch 6/20\n",
      "Epoch 7/20\n",
      "Epoch 8/20\n",
      "Epoch 9/20\n",
      "Epoch 10/20\n",
      "Epoch 11/20\n",
      "Epoch 12/20\n",
      "Epoch 13/20\n",
      "Epoch 14/20\n",
      "Epoch 15/20\n",
      "Epoch 16/20\n",
      "Epoch 17/20\n",
      "Epoch 18/20\n",
      "Epoch 19/20\n",
      "Epoch 20/20\n",
      "[CV] END ................................ score: (test=0.946) total time=  19.8s\n"
     ]
    },
    {
     "name": "stderr",
     "output_type": "stream",
     "text": [
      "[Parallel(n_jobs=1)]: Done   2 out of   2 | elapsed:   41.5s remaining:    0.0s\n"
     ]
    },
    {
     "name": "stdout",
     "output_type": "stream",
     "text": [
      "Train on 3338 samples\n",
      "Epoch 1/20\n",
      "Epoch 2/20\n",
      "Epoch 3/20\n",
      "Epoch 4/20\n",
      "Epoch 5/20\n",
      "Epoch 6/20\n",
      "Epoch 7/20\n",
      "Epoch 8/20\n",
      "Epoch 9/20\n",
      "Epoch 10/20\n",
      "Epoch 11/20\n",
      "Epoch 12/20\n",
      "Epoch 13/20\n",
      "Epoch 14/20\n",
      "Epoch 15/20\n",
      "Epoch 16/20\n",
      "Epoch 17/20\n",
      "Epoch 18/20\n",
      "Epoch 19/20\n",
      "Epoch 20/20\n",
      "[CV] END ................................ score: (test=0.947) total time=  20.5s\n",
      "Train on 3339 samples\n",
      "Epoch 1/20\n",
      "Epoch 2/20\n",
      "Epoch 3/20\n",
      "Epoch 4/20\n",
      "Epoch 5/20\n",
      "Epoch 6/20\n",
      "Epoch 7/20\n",
      "Epoch 8/20\n",
      "Epoch 9/20\n",
      "Epoch 10/20\n",
      "Epoch 11/20\n",
      "Epoch 12/20\n",
      "Epoch 13/20\n",
      "Epoch 14/20\n",
      "Epoch 15/20\n",
      "Epoch 16/20\n",
      "Epoch 17/20\n",
      "Epoch 18/20\n",
      "Epoch 19/20\n",
      "Epoch 20/20\n",
      "[CV] END ................................ score: (test=0.948) total time=  20.4s\n",
      "Train on 3339 samples\n",
      "Epoch 1/20\n",
      "Epoch 2/20\n",
      "Epoch 3/20\n",
      "Epoch 4/20\n",
      "Epoch 5/20\n",
      "Epoch 6/20\n",
      "Epoch 7/20\n",
      "Epoch 8/20\n",
      "Epoch 9/20\n",
      "Epoch 10/20\n",
      "Epoch 11/20\n",
      "Epoch 12/20\n",
      "Epoch 13/20\n",
      "Epoch 14/20\n",
      "Epoch 15/20\n",
      "Epoch 16/20\n",
      "Epoch 17/20\n",
      "Epoch 18/20\n",
      "Epoch 19/20\n",
      "Epoch 20/20\n",
      "[CV] END ................................ score: (test=0.956) total time=  20.4s\n"
     ]
    },
    {
     "name": "stderr",
     "output_type": "stream",
     "text": [
      "[Parallel(n_jobs=1)]: Done   5 out of   5 | elapsed:  1.7min finished\n"
     ]
    },
    {
     "data": {
      "text/plain": [
       "array([0.95209581, 0.9461078 , 0.94730538, 0.94844127, 0.95563549])"
      ]
     },
     "execution_count": 43,
     "metadata": {},
     "output_type": "execute_result"
    }
   ],
   "source": [
    "cross_val_score(keras_model, train_images, train_labels, cv=5, verbose=3)"
   ]
  },
  {
   "cell_type": "code",
   "execution_count": 88,
   "metadata": {},
   "outputs": [
    {
     "data": {
      "text/plain": [
       "0.9499171499999999"
      ]
     },
     "execution_count": 88,
     "metadata": {},
     "output_type": "execute_result"
    }
   ],
   "source": [
    "np.mean([0.95209581, 0.9461078 , 0.94730538, 0.94844127, 0.95563549])"
   ]
  },
  {
   "cell_type": "markdown",
   "metadata": {},
   "source": [
    "## Augmentation"
   ]
  },
  {
   "cell_type": "code",
   "execution_count": 89,
   "metadata": {},
   "outputs": [
    {
     "name": "stdout",
     "output_type": "stream",
     "text": [
      "Found 4173 images belonging to 2 classes.\n",
      "Found 1043 images belonging to 2 classes.\n"
     ]
    }
   ],
   "source": [
    "train_idg = ImageDataGenerator(rescale=1/255,\n",
    "                               validation_split = 0.20,\n",
    "                               rotation_range=40, \n",
    "                               width_shift_range=0.2, \n",
    "                               height_shift_range=0.2, \n",
    "                               shear_range=0.2, \n",
    "                               zoom_range=0.2, \n",
    "                               horizontal_flip=True,\n",
    "                               vertical_flip=True,\n",
    "                               fill_mode='nearest')\n",
    "                                   \n",
    "\n",
    "train_set_aug = train_idg.flow_from_directory(train_path, target_size=(128, 128), \n",
    "                                         color_mode='grayscale', class_mode='binary', subset='training')\n",
    "\n",
    "validation_set_aug = train_idg.flow_from_directory(train_path, target_size=(128, 128), \n",
    "                                         color_mode='grayscale', class_mode='binary', subset='validation')"
   ]
  },
  {
   "cell_type": "code",
   "execution_count": 93,
   "metadata": {},
   "outputs": [
    {
     "name": "stdout",
     "output_type": "stream",
     "text": [
      "Model: \"sequential_8\"\n",
      "_________________________________________________________________\n",
      "Layer (type)                 Output Shape              Param #   \n",
      "=================================================================\n",
      "conv2d_4 (Conv2D)            (None, 126, 126, 64)      640       \n",
      "_________________________________________________________________\n",
      "max_pooling2d_4 (MaxPooling2 (None, 63, 63, 64)        0         \n",
      "_________________________________________________________________\n",
      "dropout (Dropout)            (None, 63, 63, 64)        0         \n",
      "_________________________________________________________________\n",
      "conv2d_5 (Conv2D)            (None, 61, 61, 64)        36928     \n",
      "_________________________________________________________________\n",
      "max_pooling2d_5 (MaxPooling2 (None, 30, 30, 64)        0         \n",
      "_________________________________________________________________\n",
      "dropout_1 (Dropout)          (None, 30, 30, 64)        0         \n",
      "_________________________________________________________________\n",
      "flatten_9 (Flatten)          (None, 57600)             0         \n",
      "_________________________________________________________________\n",
      "dense_18 (Dense)             (None, 32)                1843232   \n",
      "_________________________________________________________________\n",
      "dense_19 (Dense)             (None, 12)                396       \n",
      "_________________________________________________________________\n",
      "dropout_2 (Dropout)          (None, 12)                0         \n",
      "_________________________________________________________________\n",
      "dense_20 (Dense)             (None, 8)                 104       \n",
      "_________________________________________________________________\n",
      "dense_21 (Dense)             (None, 1)                 9         \n",
      "=================================================================\n",
      "Total params: 1,881,309\n",
      "Trainable params: 1,881,309\n",
      "Non-trainable params: 0\n",
      "_________________________________________________________________\n"
     ]
    }
   ],
   "source": [
    "deep_cnn = models.Sequential([\n",
    "    layers.Conv2D(64, (3, 3), activation='relu', input_shape=(128, 128, 1)),\n",
    "    layers.MaxPooling2D((2, 2)),\n",
    "    layers.Dropout(0.25),\n",
    "    layers.Conv2D(64, (3, 3), activation='relu'),\n",
    "    layers.MaxPooling2D((2, 2)),\n",
    "    layers.Dropout(0.25),\n",
    "    layers.Flatten(),\n",
    "    layers.Dense(32, activation='relu', kernel_regularizer=regularizers.l2(0.001)),\n",
    "    layers.Dense(12, activation='relu', kernel_regularizer=regularizers.l2(0.001)),\n",
    "    layers.Dropout(0.25),\n",
    "    layers.Dense(8, activation='relu', kernel_regularizer=regularizers.l2(0.001)),\n",
    "    layers.Dense(1, activation='sigmoid')\n",
    "])\n",
    "\n",
    "deep_cnn.compile(optimizer='Adam',\n",
    "                 loss='binary_crossentropy',\n",
    "                 metrics=['accuracy', 'Recall', 'Precision', 'TruePositives', 'TrueNegatives', 'FalsePositives', 'FalseNegatives', 'AUC'])\n",
    "\n",
    "deep_cnn.summary()"
   ]
  },
  {
   "cell_type": "code",
   "execution_count": 94,
   "metadata": {},
   "outputs": [
    {
     "name": "stderr",
     "output_type": "stream",
     "text": [
      "2022-05-11 09:46:32.423926: I tensorflow/core/kernels/data/shuffle_dataset_op.cc:143] Filling up shuffle buffer (this may take a while): 50 of 131\n",
      "2022-05-11 09:46:42.517625: I tensorflow/core/kernels/data/shuffle_dataset_op.cc:143] Filling up shuffle buffer (this may take a while): 102 of 131\n",
      "2022-05-11 09:46:48.222077: I tensorflow/core/kernels/data/shuffle_dataset_op.cc:193] Shuffle buffer filled.\n"
     ]
    },
    {
     "name": "stdout",
     "output_type": "stream",
     "text": [
      "Train for 131 steps, validate for 33 steps\n",
      "Epoch 1/200\n"
     ]
    },
    {
     "name": "stderr",
     "output_type": "stream",
     "text": [
      "2022-05-11 09:47:00.299870: I tensorflow/core/kernels/data/shuffle_dataset_op.cc:143] Filling up shuffle buffer (this may take a while): 50 of 131\n",
      "2022-05-11 09:47:10.419187: I tensorflow/core/kernels/data/shuffle_dataset_op.cc:143] Filling up shuffle buffer (this may take a while): 102 of 131\n",
      "2022-05-11 09:47:16.115593: I tensorflow/core/kernels/data/shuffle_dataset_op.cc:193] Shuffle buffer filled.\n"
     ]
    },
    {
     "name": "stdout",
     "output_type": "stream",
     "text": [
      "131/131 [==============================] - 304s 2s/step - loss: 0.7279 - accuracy: 0.7043 - Recall: 0.9255 - Precision: 0.7410 - TruePositives: 2869.0000 - TrueNegatives: 70.0000 - FalsePositives: 1003.0000 - FalseNegatives: 231.0000 - AUC: 0.5038 - val_loss: 0.6365 - val_accuracy: 0.7430 - val_Recall: 1.0000 - val_Precision: 0.7430 - val_TruePositives: 775.0000 - val_TrueNegatives: 0.0000e+00 - val_FalsePositives: 268.0000 - val_FalseNegatives: 0.0000e+00 - val_AUC: 0.5708\n",
      "Epoch 2/200\n"
     ]
    },
    {
     "name": "stderr",
     "output_type": "stream",
     "text": [
      "2022-05-11 09:52:02.674694: I tensorflow/core/kernels/data/shuffle_dataset_op.cc:143] Filling up shuffle buffer (this may take a while): 49 of 131\n",
      "2022-05-11 09:52:12.803756: I tensorflow/core/kernels/data/shuffle_dataset_op.cc:143] Filling up shuffle buffer (this may take a while): 101 of 131\n",
      "2022-05-11 09:52:18.758128: I tensorflow/core/kernels/data/shuffle_dataset_op.cc:193] Shuffle buffer filled.\n"
     ]
    },
    {
     "name": "stdout",
     "output_type": "stream",
     "text": [
      "131/131 [==============================] - 306s 2s/step - loss: 0.5941 - accuracy: 0.7386 - Recall: 0.9661 - Precision: 0.7523 - TruePositives: 2995.0000 - TrueNegatives: 87.0000 - FalsePositives: 986.0000 - FalseNegatives: 105.0000 - AUC: 0.6029 - val_loss: 0.5476 - val_accuracy: 0.7430 - val_Recall: 1.0000 - val_Precision: 0.7430 - val_TruePositives: 775.0000 - val_TrueNegatives: 0.0000e+00 - val_FalsePositives: 268.0000 - val_FalseNegatives: 0.0000e+00 - val_AUC: 0.6937\n",
      "Epoch 3/200\n"
     ]
    },
    {
     "name": "stderr",
     "output_type": "stream",
     "text": [
      "2022-05-11 09:57:08.467396: I tensorflow/core/kernels/data/shuffle_dataset_op.cc:143] Filling up shuffle buffer (this may take a while): 49 of 131\n",
      "2022-05-11 09:57:18.554223: I tensorflow/core/kernels/data/shuffle_dataset_op.cc:143] Filling up shuffle buffer (this may take a while): 101 of 131\n",
      "2022-05-11 09:57:24.508965: I tensorflow/core/kernels/data/shuffle_dataset_op.cc:193] Shuffle buffer filled.\n"
     ]
    },
    {
     "name": "stdout",
     "output_type": "stream",
     "text": [
      "131/131 [==============================] - 304s 2s/step - loss: 0.5244 - accuracy: 0.7441 - Recall: 0.9619 - Precision: 0.7584 - TruePositives: 2982.0000 - TrueNegatives: 123.0000 - FalsePositives: 950.0000 - FalseNegatives: 118.0000 - AUC: 0.7433 - val_loss: 0.5403 - val_accuracy: 0.7373 - val_Recall: 0.9923 - val_Precision: 0.7416 - val_TruePositives: 769.0000 - val_TrueNegatives: 0.0000e+00 - val_FalsePositives: 268.0000 - val_FalseNegatives: 6.0000 - val_AUC: 0.7026\n",
      "Epoch 4/200\n"
     ]
    },
    {
     "name": "stderr",
     "output_type": "stream",
     "text": [
      "2022-05-11 10:02:12.318464: I tensorflow/core/kernels/data/shuffle_dataset_op.cc:143] Filling up shuffle buffer (this may take a while): 49 of 131\n",
      "2022-05-11 10:02:22.432069: I tensorflow/core/kernels/data/shuffle_dataset_op.cc:143] Filling up shuffle buffer (this may take a while): 101 of 131\n",
      "2022-05-11 10:02:28.397462: I tensorflow/core/kernels/data/shuffle_dataset_op.cc:193] Shuffle buffer filled.\n"
     ]
    },
    {
     "name": "stdout",
     "output_type": "stream",
     "text": [
      "131/131 [==============================] - 307s 2s/step - loss: 0.5097 - accuracy: 0.7381 - Recall: 0.9503 - Precision: 0.7583 - TruePositives: 2946.0000 - TrueNegatives: 134.0000 - FalsePositives: 939.0000 - FalseNegatives: 154.0000 - AUC: 0.7559 - val_loss: 0.5426 - val_accuracy: 0.7421 - val_Recall: 0.9987 - val_Precision: 0.7428 - val_TruePositives: 774.0000 - val_TrueNegatives: 0.0000e+00 - val_FalsePositives: 268.0000 - val_FalseNegatives: 1.0000 - val_AUC: 0.6959\n",
      "Epoch 5/200\n"
     ]
    },
    {
     "name": "stderr",
     "output_type": "stream",
     "text": [
      "2022-05-11 10:07:19.786333: I tensorflow/core/kernels/data/shuffle_dataset_op.cc:143] Filling up shuffle buffer (this may take a while): 49 of 131\n",
      "2022-05-11 10:07:29.731944: I tensorflow/core/kernels/data/shuffle_dataset_op.cc:143] Filling up shuffle buffer (this may take a while): 100 of 131\n",
      "2022-05-11 10:07:35.947787: I tensorflow/core/kernels/data/shuffle_dataset_op.cc:193] Shuffle buffer filled.\n"
     ]
    },
    {
     "name": "stdout",
     "output_type": "stream",
     "text": [
      "131/131 [==============================] - 303s 2s/step - loss: 0.4876 - accuracy: 0.7462 - Recall: 0.9548 - Precision: 0.7631 - TruePositives: 2960.0000 - TrueNegatives: 154.0000 - FalsePositives: 919.0000 - FalseNegatives: 140.0000 - AUC: 0.7783 - val_loss: 0.5426 - val_accuracy: 0.7143 - val_Recall: 0.9110 - val_Precision: 0.7551 - val_TruePositives: 706.0000 - val_TrueNegatives: 39.0000 - val_FalsePositives: 229.0000 - val_FalseNegatives: 69.0000 - val_AUC: 0.7057\n",
      "Epoch 6/200\n"
     ]
    },
    {
     "name": "stderr",
     "output_type": "stream",
     "text": [
      "2022-05-11 10:12:22.729058: I tensorflow/core/kernels/data/shuffle_dataset_op.cc:143] Filling up shuffle buffer (this may take a while): 49 of 131\n",
      "2022-05-11 10:12:32.672018: I tensorflow/core/kernels/data/shuffle_dataset_op.cc:143] Filling up shuffle buffer (this may take a while): 100 of 131\n",
      "2022-05-11 10:12:38.885190: I tensorflow/core/kernels/data/shuffle_dataset_op.cc:193] Shuffle buffer filled.\n"
     ]
    },
    {
     "name": "stdout",
     "output_type": "stream",
     "text": [
      "131/131 [==============================] - 307s 2s/step - loss: 0.4920 - accuracy: 0.7472 - Recall: 0.9361 - Precision: 0.7720 - TruePositives: 2902.0000 - TrueNegatives: 216.0000 - FalsePositives: 857.0000 - FalseNegatives: 198.0000 - AUC: 0.7781 - val_loss: 0.5308 - val_accuracy: 0.7411 - val_Recall: 0.9716 - val_Precision: 0.7522 - val_TruePositives: 753.0000 - val_TrueNegatives: 20.0000 - val_FalsePositives: 248.0000 - val_FalseNegatives: 22.0000 - val_AUC: 0.7105\n",
      "Epoch 7/200\n"
     ]
    },
    {
     "name": "stderr",
     "output_type": "stream",
     "text": [
      "2022-05-11 10:17:29.804209: I tensorflow/core/kernels/data/shuffle_dataset_op.cc:143] Filling up shuffle buffer (this may take a while): 47 of 131\n",
      "2022-05-11 10:17:39.817273: I tensorflow/core/kernels/data/shuffle_dataset_op.cc:143] Filling up shuffle buffer (this may take a while): 97 of 131\n",
      "2022-05-11 10:17:46.719506: I tensorflow/core/kernels/data/shuffle_dataset_op.cc:193] Shuffle buffer filled.\n"
     ]
    },
    {
     "name": "stdout",
     "output_type": "stream",
     "text": [
      "131/131 [==============================] - 305s 2s/step - loss: 0.4799 - accuracy: 0.7493 - Recall: 0.9381 - Precision: 0.7730 - TruePositives: 2908.0000 - TrueNegatives: 219.0000 - FalsePositives: 854.0000 - FalseNegatives: 192.0000 - AUC: 0.7860 - val_loss: 0.5326 - val_accuracy: 0.7402 - val_Recall: 0.9626 - val_Precision: 0.7551 - val_TruePositives: 746.0000 - val_TrueNegatives: 26.0000 - val_FalsePositives: 242.0000 - val_FalseNegatives: 29.0000 - val_AUC: 0.7044\n",
      "Epoch 8/200\n"
     ]
    },
    {
     "name": "stderr",
     "output_type": "stream",
     "text": [
      "2022-05-11 10:22:34.809887: I tensorflow/core/kernels/data/shuffle_dataset_op.cc:143] Filling up shuffle buffer (this may take a while): 49 of 131\n",
      "2022-05-11 10:22:44.773390: I tensorflow/core/kernels/data/shuffle_dataset_op.cc:143] Filling up shuffle buffer (this may take a while): 100 of 131\n",
      "2022-05-11 10:22:50.988968: I tensorflow/core/kernels/data/shuffle_dataset_op.cc:193] Shuffle buffer filled.\n"
     ]
    },
    {
     "name": "stdout",
     "output_type": "stream",
     "text": [
      "131/131 [==============================] - 304s 2s/step - loss: 0.4688 - accuracy: 0.7486 - Recall: 0.9252 - Precision: 0.7783 - TruePositives: 2868.0000 - TrueNegatives: 256.0000 - FalsePositives: 817.0000 - FalseNegatives: 232.0000 - AUC: 0.7964 - val_loss: 0.5313 - val_accuracy: 0.7459 - val_Recall: 0.9742 - val_Precision: 0.7550 - val_TruePositives: 755.0000 - val_TrueNegatives: 23.0000 - val_FalsePositives: 245.0000 - val_FalseNegatives: 20.0000 - val_AUC: 0.7218\n",
      "Epoch 9/200\n"
     ]
    },
    {
     "name": "stderr",
     "output_type": "stream",
     "text": [
      "2022-05-11 10:27:39.072119: I tensorflow/core/kernels/data/shuffle_dataset_op.cc:143] Filling up shuffle buffer (this may take a while): 49 of 131\n",
      "2022-05-11 10:27:49.025929: I tensorflow/core/kernels/data/shuffle_dataset_op.cc:143] Filling up shuffle buffer (this may take a while): 100 of 131\n",
      "2022-05-11 10:27:55.237598: I tensorflow/core/kernels/data/shuffle_dataset_op.cc:193] Shuffle buffer filled.\n"
     ]
    },
    {
     "name": "stdout",
     "output_type": "stream",
     "text": [
      "131/131 [==============================] - 324s 2s/step - loss: 0.4655 - accuracy: 0.7515 - Recall: 0.9281 - Precision: 0.7795 - TruePositives: 2877.0000 - TrueNegatives: 259.0000 - FalsePositives: 814.0000 - FalseNegatives: 223.0000 - AUC: 0.8042 - val_loss: 0.5277 - val_accuracy: 0.7469 - val_Recall: 0.9987 - val_Precision: 0.7464 - val_TruePositives: 774.0000 - val_TrueNegatives: 5.0000 - val_FalsePositives: 263.0000 - val_FalseNegatives: 1.0000 - val_AUC: 0.7489\n",
      "Epoch 10/200\n"
     ]
    },
    {
     "name": "stderr",
     "output_type": "stream",
     "text": [
      "2022-05-11 10:33:03.405924: I tensorflow/core/kernels/data/shuffle_dataset_op.cc:143] Filling up shuffle buffer (this may take a while): 47 of 131\n",
      "2022-05-11 10:33:13.336696: I tensorflow/core/kernels/data/shuffle_dataset_op.cc:143] Filling up shuffle buffer (this may take a while): 96 of 131\n",
      "2022-05-11 10:33:20.603486: I tensorflow/core/kernels/data/shuffle_dataset_op.cc:193] Shuffle buffer filled.\n"
     ]
    },
    {
     "name": "stdout",
     "output_type": "stream",
     "text": [
      "131/131 [==============================] - 313s 2s/step - loss: 0.4545 - accuracy: 0.7745 - Recall: 0.8932 - Precision: 0.8195 - TruePositives: 2769.0000 - TrueNegatives: 463.0000 - FalsePositives: 610.0000 - FalseNegatives: 331.0000 - AUC: 0.8257 - val_loss: 0.5071 - val_accuracy: 0.7507 - val_Recall: 0.9974 - val_Precision: 0.7498 - val_TruePositives: 773.0000 - val_TrueNegatives: 10.0000 - val_FalsePositives: 258.0000 - val_FalseNegatives: 2.0000 - val_AUC: 0.7715\n",
      "Epoch 11/200\n"
     ]
    },
    {
     "name": "stderr",
     "output_type": "stream",
     "text": [
      "2022-05-11 10:38:16.507876: I tensorflow/core/kernels/data/shuffle_dataset_op.cc:143] Filling up shuffle buffer (this may take a while): 48 of 131\n",
      "2022-05-11 10:38:26.356096: I tensorflow/core/kernels/data/shuffle_dataset_op.cc:143] Filling up shuffle buffer (this may take a while): 97 of 131\n",
      "2022-05-11 10:38:33.399286: I tensorflow/core/kernels/data/shuffle_dataset_op.cc:193] Shuffle buffer filled.\n"
     ]
    },
    {
     "name": "stdout",
     "output_type": "stream",
     "text": [
      "131/131 [==============================] - 319s 2s/step - loss: 0.4439 - accuracy: 0.7958 - Recall: 0.9145 - Precision: 0.8285 - TruePositives: 2835.0000 - TrueNegatives: 486.0000 - FalsePositives: 587.0000 - FalseNegatives: 265.0000 - AUC: 0.8457 - val_loss: 0.5269 - val_accuracy: 0.7766 - val_Recall: 0.8994 - val_Precision: 0.8181 - val_TruePositives: 697.0000 - val_TrueNegatives: 113.0000 - val_FalsePositives: 155.0000 - val_FalseNegatives: 78.0000 - val_AUC: 0.7882\n",
      "Epoch 12/200\n"
     ]
    },
    {
     "name": "stderr",
     "output_type": "stream",
     "text": [
      "2022-05-11 10:43:35.392622: I tensorflow/core/kernels/data/shuffle_dataset_op.cc:143] Filling up shuffle buffer (this may take a while): 47 of 131\n",
      "2022-05-11 10:43:45.415930: I tensorflow/core/kernels/data/shuffle_dataset_op.cc:143] Filling up shuffle buffer (this may take a while): 97 of 131\n",
      "2022-05-11 10:43:52.435651: I tensorflow/core/kernels/data/shuffle_dataset_op.cc:193] Shuffle buffer filled.\n"
     ]
    },
    {
     "name": "stdout",
     "output_type": "stream",
     "text": [
      "131/131 [==============================] - 324s 2s/step - loss: 0.4087 - accuracy: 0.8215 - Recall: 0.9010 - Precision: 0.8644 - TruePositives: 2793.0000 - TrueNegatives: 635.0000 - FalsePositives: 438.0000 - FalseNegatives: 307.0000 - AUC: 0.8733 - val_loss: 0.4658 - val_accuracy: 0.8025 - val_Recall: 0.9794 - val_Precision: 0.7998 - val_TruePositives: 759.0000 - val_TrueNegatives: 78.0000 - val_FalsePositives: 190.0000 - val_FalseNegatives: 16.0000 - val_AUC: 0.8661\n",
      "Epoch 13/200\n"
     ]
    },
    {
     "name": "stderr",
     "output_type": "stream",
     "text": [
      "2022-05-11 10:48:59.864094: I tensorflow/core/kernels/data/shuffle_dataset_op.cc:143] Filling up shuffle buffer (this may take a while): 47 of 131\n",
      "2022-05-11 10:49:09.813168: I tensorflow/core/kernels/data/shuffle_dataset_op.cc:143] Filling up shuffle buffer (this may take a while): 96 of 131\n",
      "2022-05-11 10:49:17.115453: I tensorflow/core/kernels/data/shuffle_dataset_op.cc:193] Shuffle buffer filled.\n"
     ]
    },
    {
     "name": "stdout",
     "output_type": "stream",
     "text": [
      "131/131 [==============================] - 313s 2s/step - loss: 0.4045 - accuracy: 0.8323 - Recall: 0.9003 - Precision: 0.8771 - TruePositives: 2791.0000 - TrueNegatives: 682.0000 - FalsePositives: 391.0000 - FalseNegatives: 309.0000 - AUC: 0.8783 - val_loss: 0.4527 - val_accuracy: 0.7709 - val_Recall: 0.7677 - val_Precision: 0.9098 - val_TruePositives: 595.0000 - val_TrueNegatives: 209.0000 - val_FalsePositives: 59.0000 - val_FalseNegatives: 180.0000 - val_AUC: 0.8636\n",
      "Epoch 14/200\n"
     ]
    },
    {
     "name": "stderr",
     "output_type": "stream",
     "text": [
      "2022-05-11 10:54:12.566503: I tensorflow/core/kernels/data/shuffle_dataset_op.cc:143] Filling up shuffle buffer (this may take a while): 48 of 131\n",
      "2022-05-11 10:54:22.606348: I tensorflow/core/kernels/data/shuffle_dataset_op.cc:143] Filling up shuffle buffer (this may take a while): 98 of 131\n",
      "2022-05-11 10:54:29.375677: I tensorflow/core/kernels/data/shuffle_dataset_op.cc:193] Shuffle buffer filled.\n"
     ]
    },
    {
     "name": "stdout",
     "output_type": "stream",
     "text": [
      "131/131 [==============================] - 311s 2s/step - loss: 0.3753 - accuracy: 0.8404 - Recall: 0.9032 - Precision: 0.8844 - TruePositives: 2800.0000 - TrueNegatives: 707.0000 - FalsePositives: 366.0000 - FalseNegatives: 300.0000 - AUC: 0.8976 - val_loss: 0.3809 - val_accuracy: 0.8437 - val_Recall: 0.8968 - val_Precision: 0.8933 - val_TruePositives: 695.0000 - val_TrueNegatives: 185.0000 - val_FalsePositives: 83.0000 - val_FalseNegatives: 80.0000 - val_AUC: 0.8987\n",
      "Epoch 15/200\n"
     ]
    },
    {
     "name": "stderr",
     "output_type": "stream",
     "text": [
      "2022-05-11 10:59:23.218941: I tensorflow/core/kernels/data/shuffle_dataset_op.cc:143] Filling up shuffle buffer (this may take a while): 47 of 131\n",
      "2022-05-11 10:59:33.241714: I tensorflow/core/kernels/data/shuffle_dataset_op.cc:143] Filling up shuffle buffer (this may take a while): 97 of 131\n",
      "2022-05-11 10:59:40.280221: I tensorflow/core/kernels/data/shuffle_dataset_op.cc:193] Shuffle buffer filled.\n"
     ]
    },
    {
     "name": "stdout",
     "output_type": "stream",
     "text": [
      "131/131 [==============================] - 312s 2s/step - loss: 0.3662 - accuracy: 0.8517 - Recall: 0.9055 - Precision: 0.8959 - TruePositives: 2807.0000 - TrueNegatives: 747.0000 - FalsePositives: 326.0000 - FalseNegatives: 293.0000 - AUC: 0.9046 - val_loss: 0.4112 - val_accuracy: 0.8198 - val_Recall: 0.8568 - val_Precision: 0.8961 - val_TruePositives: 664.0000 - val_TrueNegatives: 191.0000 - val_FalsePositives: 77.0000 - val_FalseNegatives: 111.0000 - val_AUC: 0.8876\n",
      "Epoch 16/200\n"
     ]
    },
    {
     "name": "stderr",
     "output_type": "stream",
     "text": [
      "2022-05-11 11:04:35.143384: I tensorflow/core/kernels/data/shuffle_dataset_op.cc:143] Filling up shuffle buffer (this may take a while): 48 of 131\n",
      "2022-05-11 11:04:45.015637: I tensorflow/core/kernels/data/shuffle_dataset_op.cc:143] Filling up shuffle buffer (this may take a while): 96 of 131\n",
      "2022-05-11 11:04:52.220946: I tensorflow/core/kernels/data/shuffle_dataset_op.cc:193] Shuffle buffer filled.\n"
     ]
    },
    {
     "name": "stdout",
     "output_type": "stream",
     "text": [
      "131/131 [==============================] - 318s 2s/step - loss: 0.3653 - accuracy: 0.8533 - Recall: 0.9090 - Precision: 0.8952 - TruePositives: 2818.0000 - TrueNegatives: 743.0000 - FalsePositives: 330.0000 - FalseNegatives: 282.0000 - AUC: 0.9055 - val_loss: 0.4112 - val_accuracy: 0.8255 - val_Recall: 0.9535 - val_Precision: 0.8350 - val_TruePositives: 739.0000 - val_TrueNegatives: 122.0000 - val_FalsePositives: 146.0000 - val_FalseNegatives: 36.0000 - val_AUC: 0.8798\n",
      "Epoch 17/200\n"
     ]
    },
    {
     "name": "stderr",
     "output_type": "stream",
     "text": [
      "2022-05-11 11:09:53.208193: I tensorflow/core/kernels/data/shuffle_dataset_op.cc:143] Filling up shuffle buffer (this may take a while): 48 of 131\n",
      "2022-05-11 11:10:03.138809: I tensorflow/core/kernels/data/shuffle_dataset_op.cc:143] Filling up shuffle buffer (this may take a while): 98 of 131\n",
      "2022-05-11 11:10:09.839782: I tensorflow/core/kernels/data/shuffle_dataset_op.cc:193] Shuffle buffer filled.\n"
     ]
    },
    {
     "name": "stdout",
     "output_type": "stream",
     "text": [
      "131/131 [==============================] - 323s 2s/step - loss: 0.3572 - accuracy: 0.8562 - Recall: 0.9039 - Precision: 0.9027 - TruePositives: 2802.0000 - TrueNegatives: 771.0000 - FalsePositives: 302.0000 - FalseNegatives: 298.0000 - AUC: 0.9100 - val_loss: 0.4056 - val_accuracy: 0.8389 - val_Recall: 0.8929 - val_Precision: 0.8906 - val_TruePositives: 692.0000 - val_TrueNegatives: 183.0000 - val_FalsePositives: 85.0000 - val_FalseNegatives: 83.0000 - val_AUC: 0.8801\n",
      "Epoch 18/200\n"
     ]
    },
    {
     "name": "stderr",
     "output_type": "stream",
     "text": [
      "2022-05-11 11:15:16.613543: I tensorflow/core/kernels/data/shuffle_dataset_op.cc:143] Filling up shuffle buffer (this may take a while): 48 of 131\n",
      "2022-05-11 11:15:26.684206: I tensorflow/core/kernels/data/shuffle_dataset_op.cc:143] Filling up shuffle buffer (this may take a while): 99 of 131\n",
      "2022-05-11 11:15:33.203942: I tensorflow/core/kernels/data/shuffle_dataset_op.cc:193] Shuffle buffer filled.\n"
     ]
    },
    {
     "name": "stdout",
     "output_type": "stream",
     "text": [
      "118/131 [==========================>...] - ETA: 29s - loss: 0.3142 - accuracy: 0.8789 - Recall: 0.9090 - Precision: 0.9267 - TruePositives: 2516.0000 - TrueNegatives: 758.0000 - FalsePositives: 199.0000 - FalseNegatives: 252.0000 - AUC: 0.9325"
     ]
    },
    {
     "ename": "KeyboardInterrupt",
     "evalue": "",
     "output_type": "error",
     "traceback": [
      "\u001b[0;31m---------------------------------------------------------------------------\u001b[0m",
      "\u001b[0;31mKeyboardInterrupt\u001b[0m                         Traceback (most recent call last)",
      "\u001b[0;32m/var/folders/n6/36h6cpys3pb112776ltdljwc0000gn/T/ipykernel_17977/558509493.py\u001b[0m in \u001b[0;36m<module>\u001b[0;34m\u001b[0m\n\u001b[1;32m      2\u001b[0m                                 \u001b[0mepochs\u001b[0m\u001b[0;34m=\u001b[0m\u001b[0;36m200\u001b[0m\u001b[0;34m,\u001b[0m\u001b[0;34m\u001b[0m\u001b[0;34m\u001b[0m\u001b[0m\n\u001b[1;32m      3\u001b[0m                                 \u001b[0mbatch_size\u001b[0m\u001b[0;34m=\u001b[0m\u001b[0;32mNone\u001b[0m\u001b[0;34m,\u001b[0m\u001b[0;34m\u001b[0m\u001b[0;34m\u001b[0m\u001b[0m\n\u001b[0;32m----> 4\u001b[0;31m                                 validation_data=validation_set_aug)\n\u001b[0m",
      "\u001b[0;32m~/opt/anaconda3/envs/tf/lib/python3.7/site-packages/tensorflow_core/python/keras/engine/training.py\u001b[0m in \u001b[0;36mfit\u001b[0;34m(self, x, y, batch_size, epochs, verbose, callbacks, validation_split, validation_data, shuffle, class_weight, sample_weight, initial_epoch, steps_per_epoch, validation_steps, validation_freq, max_queue_size, workers, use_multiprocessing, **kwargs)\u001b[0m\n\u001b[1;32m    726\u001b[0m         \u001b[0mmax_queue_size\u001b[0m\u001b[0;34m=\u001b[0m\u001b[0mmax_queue_size\u001b[0m\u001b[0;34m,\u001b[0m\u001b[0;34m\u001b[0m\u001b[0;34m\u001b[0m\u001b[0m\n\u001b[1;32m    727\u001b[0m         \u001b[0mworkers\u001b[0m\u001b[0;34m=\u001b[0m\u001b[0mworkers\u001b[0m\u001b[0;34m,\u001b[0m\u001b[0;34m\u001b[0m\u001b[0;34m\u001b[0m\u001b[0m\n\u001b[0;32m--> 728\u001b[0;31m         use_multiprocessing=use_multiprocessing)\n\u001b[0m\u001b[1;32m    729\u001b[0m \u001b[0;34m\u001b[0m\u001b[0m\n\u001b[1;32m    730\u001b[0m   def evaluate(self,\n",
      "\u001b[0;32m~/opt/anaconda3/envs/tf/lib/python3.7/site-packages/tensorflow_core/python/keras/engine/training_v2.py\u001b[0m in \u001b[0;36mfit\u001b[0;34m(self, model, x, y, batch_size, epochs, verbose, callbacks, validation_split, validation_data, shuffle, class_weight, sample_weight, initial_epoch, steps_per_epoch, validation_steps, validation_freq, **kwargs)\u001b[0m\n\u001b[1;32m    322\u001b[0m                 \u001b[0mmode\u001b[0m\u001b[0;34m=\u001b[0m\u001b[0mModeKeys\u001b[0m\u001b[0;34m.\u001b[0m\u001b[0mTRAIN\u001b[0m\u001b[0;34m,\u001b[0m\u001b[0;34m\u001b[0m\u001b[0;34m\u001b[0m\u001b[0m\n\u001b[1;32m    323\u001b[0m                 \u001b[0mtraining_context\u001b[0m\u001b[0;34m=\u001b[0m\u001b[0mtraining_context\u001b[0m\u001b[0;34m,\u001b[0m\u001b[0;34m\u001b[0m\u001b[0;34m\u001b[0m\u001b[0m\n\u001b[0;32m--> 324\u001b[0;31m                 total_epochs=epochs)\n\u001b[0m\u001b[1;32m    325\u001b[0m             \u001b[0mcbks\u001b[0m\u001b[0;34m.\u001b[0m\u001b[0mmake_logs\u001b[0m\u001b[0;34m(\u001b[0m\u001b[0mmodel\u001b[0m\u001b[0;34m,\u001b[0m \u001b[0mepoch_logs\u001b[0m\u001b[0;34m,\u001b[0m \u001b[0mtraining_result\u001b[0m\u001b[0;34m,\u001b[0m \u001b[0mModeKeys\u001b[0m\u001b[0;34m.\u001b[0m\u001b[0mTRAIN\u001b[0m\u001b[0;34m)\u001b[0m\u001b[0;34m\u001b[0m\u001b[0;34m\u001b[0m\u001b[0m\n\u001b[1;32m    326\u001b[0m \u001b[0;34m\u001b[0m\u001b[0m\n",
      "\u001b[0;32m~/opt/anaconda3/envs/tf/lib/python3.7/site-packages/tensorflow_core/python/keras/engine/training_v2.py\u001b[0m in \u001b[0;36mrun_one_epoch\u001b[0;34m(model, iterator, execution_function, dataset_size, batch_size, strategy, steps_per_epoch, num_samples, mode, training_context, total_epochs)\u001b[0m\n\u001b[1;32m    121\u001b[0m         step=step, mode=mode, size=current_batch_size) as batch_logs:\n\u001b[1;32m    122\u001b[0m       \u001b[0;32mtry\u001b[0m\u001b[0;34m:\u001b[0m\u001b[0;34m\u001b[0m\u001b[0;34m\u001b[0m\u001b[0m\n\u001b[0;32m--> 123\u001b[0;31m         \u001b[0mbatch_outs\u001b[0m \u001b[0;34m=\u001b[0m \u001b[0mexecution_function\u001b[0m\u001b[0;34m(\u001b[0m\u001b[0miterator\u001b[0m\u001b[0;34m)\u001b[0m\u001b[0;34m\u001b[0m\u001b[0;34m\u001b[0m\u001b[0m\n\u001b[0m\u001b[1;32m    124\u001b[0m       \u001b[0;32mexcept\u001b[0m \u001b[0;34m(\u001b[0m\u001b[0mStopIteration\u001b[0m\u001b[0;34m,\u001b[0m \u001b[0merrors\u001b[0m\u001b[0;34m.\u001b[0m\u001b[0mOutOfRangeError\u001b[0m\u001b[0;34m)\u001b[0m\u001b[0;34m:\u001b[0m\u001b[0;34m\u001b[0m\u001b[0;34m\u001b[0m\u001b[0m\n\u001b[1;32m    125\u001b[0m         \u001b[0;31m# TODO(kaftan): File bug about tf function and errors.OutOfRangeError?\u001b[0m\u001b[0;34m\u001b[0m\u001b[0;34m\u001b[0m\u001b[0;34m\u001b[0m\u001b[0m\n",
      "\u001b[0;32m~/opt/anaconda3/envs/tf/lib/python3.7/site-packages/tensorflow_core/python/keras/engine/training_v2_utils.py\u001b[0m in \u001b[0;36mexecution_function\u001b[0;34m(input_fn)\u001b[0m\n\u001b[1;32m     84\u001b[0m     \u001b[0;31m# `numpy` translates Tensors to values in Eager mode.\u001b[0m\u001b[0;34m\u001b[0m\u001b[0;34m\u001b[0m\u001b[0;34m\u001b[0m\u001b[0m\n\u001b[1;32m     85\u001b[0m     return nest.map_structure(_non_none_constant_value,\n\u001b[0;32m---> 86\u001b[0;31m                               distributed_function(input_fn))\n\u001b[0m\u001b[1;32m     87\u001b[0m \u001b[0;34m\u001b[0m\u001b[0m\n\u001b[1;32m     88\u001b[0m   \u001b[0;32mreturn\u001b[0m \u001b[0mexecution_function\u001b[0m\u001b[0;34m\u001b[0m\u001b[0;34m\u001b[0m\u001b[0m\n",
      "\u001b[0;32m~/opt/anaconda3/envs/tf/lib/python3.7/site-packages/tensorflow_core/python/eager/def_function.py\u001b[0m in \u001b[0;36m__call__\u001b[0;34m(self, *args, **kwds)\u001b[0m\n\u001b[1;32m    455\u001b[0m \u001b[0;34m\u001b[0m\u001b[0m\n\u001b[1;32m    456\u001b[0m     \u001b[0mtracing_count\u001b[0m \u001b[0;34m=\u001b[0m \u001b[0mself\u001b[0m\u001b[0;34m.\u001b[0m\u001b[0m_get_tracing_count\u001b[0m\u001b[0;34m(\u001b[0m\u001b[0;34m)\u001b[0m\u001b[0;34m\u001b[0m\u001b[0;34m\u001b[0m\u001b[0m\n\u001b[0;32m--> 457\u001b[0;31m     \u001b[0mresult\u001b[0m \u001b[0;34m=\u001b[0m \u001b[0mself\u001b[0m\u001b[0;34m.\u001b[0m\u001b[0m_call\u001b[0m\u001b[0;34m(\u001b[0m\u001b[0;34m*\u001b[0m\u001b[0margs\u001b[0m\u001b[0;34m,\u001b[0m \u001b[0;34m**\u001b[0m\u001b[0mkwds\u001b[0m\u001b[0;34m)\u001b[0m\u001b[0;34m\u001b[0m\u001b[0;34m\u001b[0m\u001b[0m\n\u001b[0m\u001b[1;32m    458\u001b[0m     \u001b[0;32mif\u001b[0m \u001b[0mtracing_count\u001b[0m \u001b[0;34m==\u001b[0m \u001b[0mself\u001b[0m\u001b[0;34m.\u001b[0m\u001b[0m_get_tracing_count\u001b[0m\u001b[0;34m(\u001b[0m\u001b[0;34m)\u001b[0m\u001b[0;34m:\u001b[0m\u001b[0;34m\u001b[0m\u001b[0;34m\u001b[0m\u001b[0m\n\u001b[1;32m    459\u001b[0m       \u001b[0mself\u001b[0m\u001b[0;34m.\u001b[0m\u001b[0m_call_counter\u001b[0m\u001b[0;34m.\u001b[0m\u001b[0mcalled_without_tracing\u001b[0m\u001b[0;34m(\u001b[0m\u001b[0;34m)\u001b[0m\u001b[0;34m\u001b[0m\u001b[0;34m\u001b[0m\u001b[0m\n",
      "\u001b[0;32m~/opt/anaconda3/envs/tf/lib/python3.7/site-packages/tensorflow_core/python/eager/def_function.py\u001b[0m in \u001b[0;36m_call\u001b[0;34m(self, *args, **kwds)\u001b[0m\n\u001b[1;32m    485\u001b[0m       \u001b[0;31m# In this case we have created variables on the first call, so we run the\u001b[0m\u001b[0;34m\u001b[0m\u001b[0;34m\u001b[0m\u001b[0;34m\u001b[0m\u001b[0m\n\u001b[1;32m    486\u001b[0m       \u001b[0;31m# defunned version which is guaranteed to never create variables.\u001b[0m\u001b[0;34m\u001b[0m\u001b[0;34m\u001b[0m\u001b[0;34m\u001b[0m\u001b[0m\n\u001b[0;32m--> 487\u001b[0;31m       \u001b[0;32mreturn\u001b[0m \u001b[0mself\u001b[0m\u001b[0;34m.\u001b[0m\u001b[0m_stateless_fn\u001b[0m\u001b[0;34m(\u001b[0m\u001b[0;34m*\u001b[0m\u001b[0margs\u001b[0m\u001b[0;34m,\u001b[0m \u001b[0;34m**\u001b[0m\u001b[0mkwds\u001b[0m\u001b[0;34m)\u001b[0m  \u001b[0;31m# pylint: disable=not-callable\u001b[0m\u001b[0;34m\u001b[0m\u001b[0;34m\u001b[0m\u001b[0m\n\u001b[0m\u001b[1;32m    488\u001b[0m     \u001b[0;32melif\u001b[0m \u001b[0mself\u001b[0m\u001b[0;34m.\u001b[0m\u001b[0m_stateful_fn\u001b[0m \u001b[0;32mis\u001b[0m \u001b[0;32mnot\u001b[0m \u001b[0;32mNone\u001b[0m\u001b[0;34m:\u001b[0m\u001b[0;34m\u001b[0m\u001b[0;34m\u001b[0m\u001b[0m\n\u001b[1;32m    489\u001b[0m       \u001b[0;31m# Release the lock early so that multiple threads can perform the call\u001b[0m\u001b[0;34m\u001b[0m\u001b[0;34m\u001b[0m\u001b[0;34m\u001b[0m\u001b[0m\n",
      "\u001b[0;32m~/opt/anaconda3/envs/tf/lib/python3.7/site-packages/tensorflow_core/python/eager/function.py\u001b[0m in \u001b[0;36m__call__\u001b[0;34m(self, *args, **kwargs)\u001b[0m\n\u001b[1;32m   1821\u001b[0m     \u001b[0;34m\"\"\"Calls a graph function specialized to the inputs.\"\"\"\u001b[0m\u001b[0;34m\u001b[0m\u001b[0;34m\u001b[0m\u001b[0m\n\u001b[1;32m   1822\u001b[0m     \u001b[0mgraph_function\u001b[0m\u001b[0;34m,\u001b[0m \u001b[0margs\u001b[0m\u001b[0;34m,\u001b[0m \u001b[0mkwargs\u001b[0m \u001b[0;34m=\u001b[0m \u001b[0mself\u001b[0m\u001b[0;34m.\u001b[0m\u001b[0m_maybe_define_function\u001b[0m\u001b[0;34m(\u001b[0m\u001b[0margs\u001b[0m\u001b[0;34m,\u001b[0m \u001b[0mkwargs\u001b[0m\u001b[0;34m)\u001b[0m\u001b[0;34m\u001b[0m\u001b[0;34m\u001b[0m\u001b[0m\n\u001b[0;32m-> 1823\u001b[0;31m     \u001b[0;32mreturn\u001b[0m \u001b[0mgraph_function\u001b[0m\u001b[0;34m.\u001b[0m\u001b[0m_filtered_call\u001b[0m\u001b[0;34m(\u001b[0m\u001b[0margs\u001b[0m\u001b[0;34m,\u001b[0m \u001b[0mkwargs\u001b[0m\u001b[0;34m)\u001b[0m  \u001b[0;31m# pylint: disable=protected-access\u001b[0m\u001b[0;34m\u001b[0m\u001b[0;34m\u001b[0m\u001b[0m\n\u001b[0m\u001b[1;32m   1824\u001b[0m \u001b[0;34m\u001b[0m\u001b[0m\n\u001b[1;32m   1825\u001b[0m   \u001b[0;34m@\u001b[0m\u001b[0mproperty\u001b[0m\u001b[0;34m\u001b[0m\u001b[0;34m\u001b[0m\u001b[0m\n",
      "\u001b[0;32m~/opt/anaconda3/envs/tf/lib/python3.7/site-packages/tensorflow_core/python/eager/function.py\u001b[0m in \u001b[0;36m_filtered_call\u001b[0;34m(self, args, kwargs)\u001b[0m\n\u001b[1;32m   1139\u001b[0m          if isinstance(t, (ops.Tensor,\n\u001b[1;32m   1140\u001b[0m                            resource_variable_ops.BaseResourceVariable))),\n\u001b[0;32m-> 1141\u001b[0;31m         self.captured_inputs)\n\u001b[0m\u001b[1;32m   1142\u001b[0m \u001b[0;34m\u001b[0m\u001b[0m\n\u001b[1;32m   1143\u001b[0m   \u001b[0;32mdef\u001b[0m \u001b[0m_call_flat\u001b[0m\u001b[0;34m(\u001b[0m\u001b[0mself\u001b[0m\u001b[0;34m,\u001b[0m \u001b[0margs\u001b[0m\u001b[0;34m,\u001b[0m \u001b[0mcaptured_inputs\u001b[0m\u001b[0;34m,\u001b[0m \u001b[0mcancellation_manager\u001b[0m\u001b[0;34m=\u001b[0m\u001b[0;32mNone\u001b[0m\u001b[0;34m)\u001b[0m\u001b[0;34m:\u001b[0m\u001b[0;34m\u001b[0m\u001b[0;34m\u001b[0m\u001b[0m\n",
      "\u001b[0;32m~/opt/anaconda3/envs/tf/lib/python3.7/site-packages/tensorflow_core/python/eager/function.py\u001b[0m in \u001b[0;36m_call_flat\u001b[0;34m(self, args, captured_inputs, cancellation_manager)\u001b[0m\n\u001b[1;32m   1222\u001b[0m     \u001b[0;32mif\u001b[0m \u001b[0mexecuting_eagerly\u001b[0m\u001b[0;34m:\u001b[0m\u001b[0;34m\u001b[0m\u001b[0;34m\u001b[0m\u001b[0m\n\u001b[1;32m   1223\u001b[0m       flat_outputs = forward_function.call(\n\u001b[0;32m-> 1224\u001b[0;31m           ctx, args, cancellation_manager=cancellation_manager)\n\u001b[0m\u001b[1;32m   1225\u001b[0m     \u001b[0;32melse\u001b[0m\u001b[0;34m:\u001b[0m\u001b[0;34m\u001b[0m\u001b[0;34m\u001b[0m\u001b[0m\n\u001b[1;32m   1226\u001b[0m       \u001b[0mgradient_name\u001b[0m \u001b[0;34m=\u001b[0m \u001b[0mself\u001b[0m\u001b[0;34m.\u001b[0m\u001b[0m_delayed_rewrite_functions\u001b[0m\u001b[0;34m.\u001b[0m\u001b[0mregister\u001b[0m\u001b[0;34m(\u001b[0m\u001b[0;34m)\u001b[0m\u001b[0;34m\u001b[0m\u001b[0;34m\u001b[0m\u001b[0m\n",
      "\u001b[0;32m~/opt/anaconda3/envs/tf/lib/python3.7/site-packages/tensorflow_core/python/eager/function.py\u001b[0m in \u001b[0;36mcall\u001b[0;34m(self, ctx, args, cancellation_manager)\u001b[0m\n\u001b[1;32m    509\u001b[0m               \u001b[0minputs\u001b[0m\u001b[0;34m=\u001b[0m\u001b[0margs\u001b[0m\u001b[0;34m,\u001b[0m\u001b[0;34m\u001b[0m\u001b[0;34m\u001b[0m\u001b[0m\n\u001b[1;32m    510\u001b[0m               \u001b[0mattrs\u001b[0m\u001b[0;34m=\u001b[0m\u001b[0;34m(\u001b[0m\u001b[0;34m\"executor_type\"\u001b[0m\u001b[0;34m,\u001b[0m \u001b[0mexecutor_type\u001b[0m\u001b[0;34m,\u001b[0m \u001b[0;34m\"config_proto\"\u001b[0m\u001b[0;34m,\u001b[0m \u001b[0mconfig\u001b[0m\u001b[0;34m)\u001b[0m\u001b[0;34m,\u001b[0m\u001b[0;34m\u001b[0m\u001b[0;34m\u001b[0m\u001b[0m\n\u001b[0;32m--> 511\u001b[0;31m               ctx=ctx)\n\u001b[0m\u001b[1;32m    512\u001b[0m         \u001b[0;32melse\u001b[0m\u001b[0;34m:\u001b[0m\u001b[0;34m\u001b[0m\u001b[0;34m\u001b[0m\u001b[0m\n\u001b[1;32m    513\u001b[0m           outputs = execute.execute_with_cancellation(\n",
      "\u001b[0;32m~/opt/anaconda3/envs/tf/lib/python3.7/site-packages/tensorflow_core/python/eager/execute.py\u001b[0m in \u001b[0;36mquick_execute\u001b[0;34m(op_name, num_outputs, inputs, attrs, ctx, name)\u001b[0m\n\u001b[1;32m     59\u001b[0m     tensors = pywrap_tensorflow.TFE_Py_Execute(ctx._handle, device_name,\n\u001b[1;32m     60\u001b[0m                                                \u001b[0mop_name\u001b[0m\u001b[0;34m,\u001b[0m \u001b[0minputs\u001b[0m\u001b[0;34m,\u001b[0m \u001b[0mattrs\u001b[0m\u001b[0;34m,\u001b[0m\u001b[0;34m\u001b[0m\u001b[0;34m\u001b[0m\u001b[0m\n\u001b[0;32m---> 61\u001b[0;31m                                                num_outputs)\n\u001b[0m\u001b[1;32m     62\u001b[0m   \u001b[0;32mexcept\u001b[0m \u001b[0mcore\u001b[0m\u001b[0;34m.\u001b[0m\u001b[0m_NotOkStatusException\u001b[0m \u001b[0;32mas\u001b[0m \u001b[0me\u001b[0m\u001b[0;34m:\u001b[0m\u001b[0;34m\u001b[0m\u001b[0;34m\u001b[0m\u001b[0m\n\u001b[1;32m     63\u001b[0m     \u001b[0;32mif\u001b[0m \u001b[0mname\u001b[0m \u001b[0;32mis\u001b[0m \u001b[0;32mnot\u001b[0m \u001b[0;32mNone\u001b[0m\u001b[0;34m:\u001b[0m\u001b[0;34m\u001b[0m\u001b[0;34m\u001b[0m\u001b[0m\n",
      "\u001b[0;31mKeyboardInterrupt\u001b[0m: "
     ]
    }
   ],
   "source": [
    "deep_cnn_results = deep_cnn.fit(train_set_aug, \n",
    "                                epochs=200, \n",
    "                                batch_size=None, \n",
    "                                validation_data=validation_set_aug)"
   ]
  },
  {
   "cell_type": "code",
   "execution_count": null,
   "metadata": {},
   "outputs": [],
   "source": [
    "deep_cnn.save('../data/deep_cnn.h5')"
   ]
  },
  {
   "cell_type": "markdown",
   "metadata": {},
   "source": [
    "## Evaluation\n",
    "Evaluate how well your work solves the stated business problem.\n",
    "\n",
    "***\n",
    "Questions to consider:\n",
    "* How do you interpret the results?\n",
    "* How well does your model fit your data? How much better is this than your baseline model?\n",
    "* How confident are you that your results would generalize beyond the data you have?\n",
    "* How confident are you that this model would benefit the business if put into use?\n",
    "***"
   ]
  },
  {
   "cell_type": "markdown",
   "metadata": {},
   "source": [
    "## Conclusions\n",
    "Provide your conclusions about the work you've done, including any limitations or next steps.\n",
    "\n",
    "***\n",
    "Questions to consider:\n",
    "* What would you recommend the business do as a result of this work?\n",
    "* What are some reasons why your analysis might not fully solve the business problem?\n",
    "* What else could you do in the future to improve this project?\n",
    "***"
   ]
  }
 ],
 "metadata": {
  "kernelspec": {
   "display_name": "tf",
   "language": "python",
   "name": "tf"
  },
  "language_info": {
   "codemirror_mode": {
    "name": "ipython",
    "version": 3
   },
   "file_extension": ".py",
   "mimetype": "text/x-python",
   "name": "python",
   "nbconvert_exporter": "python",
   "pygments_lexer": "ipython3",
   "version": "3.7.13"
  }
 },
 "nbformat": 4,
 "nbformat_minor": 4
}
